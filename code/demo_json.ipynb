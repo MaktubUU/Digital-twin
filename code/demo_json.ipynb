{
 "cells": [
  {
   "cell_type": "code",
   "execution_count": 2028,
   "metadata": {},
   "outputs": [],
   "source": [
    "import json   \n",
    "import pprint\n",
    "f =open('../data/立库信息.json',encoding='gb2312')    #打开文件 "
   ]
  },
  {
   "cell_type": "code",
   "execution_count": 2029,
   "metadata": {},
   "outputs": [
    {
     "name": "stdout",
     "output_type": "stream",
     "text": [
      "<class 'list'>\n",
      "[{'sizeX': 0.0, 'sizeY': 0.0, 'sizeZ': 0.0, 'x': -18.52, 'y': 0.7, 'z': 21.24, 'name': '上货点1', 'processingCapacity': 5000.0, 'rate': 0.0, 'id': 1, 'waitInterval': 0.0, 'upPoint': [0.0, 0.0, 0.0], 'downPoint': [-2.97, 0.71, 21.19]}, {'sizeX': 0.0, 'sizeY': 0.0, 'sizeZ': 0.0, 'x': -2.95, 'y': 0.7, 'z': 19.49, 'name': '上货点2', 'processingCapacity': 5000.0, 'rate': 0.0, 'id': 2, 'waitInterval': 0.0, 'upPoint': [0.0, 0.0, 0.0], 'downPoint': [-2.97, 0.71, 21.19]}, {'sizeX': 0.0, 'sizeY': 0.0, 'sizeZ': 0.0, 'x': 0.03, 'y': 0.71, 'z': 23.98, 'name': '1号叠箱机', 'processingCapacity': 4000.0, 'rate': 1.0, 'id': 59, 'waitInterval': 5000.0, 'upPoint': [0.03, 0.71, 21.19], 'downPoint': [0.03, 0.71, 52.2]}]\n"
     ]
    }
   ],
   "source": [
    "d1 = json.load(f)\n",
    "lis_equipmentInfos = d1['equipmentInfos']\n",
    "print(type(lis_equipmentInfos))\n",
    "print(lis_equipmentInfos)"
   ]
  },
  {
   "cell_type": "code",
   "execution_count": 2030,
   "metadata": {},
   "outputs": [
    {
     "name": "stdout",
     "output_type": "stream",
     "text": [
      "{'sizeX': 0.0, 'sizeY': 0.0, 'sizeZ': 0.0, 'x': -18.52, 'y': 0.7, 'z': 21.24, 'name': '上货点1', 'processingCapacity': 5000.0, 'rate': 0.0, 'id': 1, 'waitInterval': 0.0, 'upPoint': [0.0, 0.0, 0.0], 'downPoint': [-2.97, 0.71, 21.19]}\n",
      "上货点的坐标为 [-18.52, 0.7, 21.24, -2.95, 0.7, 19.49]\n",
      "上货点的数量为 2\n",
      "上货点的下一个节点的坐标为 [[-2.97, 0.71, 21.19], [-2.97, 0.71, 21.19]]\n",
      "[-18.52, 0.7, 21.24, -2.95, 0.7, 19.49, 0.03, 0.71, 23.98]\n"
     ]
    }
   ],
   "source": [
    "#存放所有节点的列表\n",
    "list_Point = []\n",
    "#获得所有上货点的信息\n",
    "print(lis_equipmentInfos[0])\n",
    "load_Point = ['上货点1','上货点2','上货点3']\n",
    "#上货点坐标和名称\n",
    "lis_load = []\n",
    "lis_loadName = []\n",
    "#上货点的下一个节点坐标\n",
    "lis_loadDown = []\n",
    "\n",
    "loadNum = 0 #上货点数量\n",
    "#遍历 equipmentInfos 找出所有上货点\n",
    "for i in range(len(lis_equipmentInfos)):\n",
    "    if(lis_equipmentInfos[i]['name'] in load_Point):\n",
    "        loadNum += 1\n",
    "        lis_load.append(lis_equipmentInfos[i]['x'])\n",
    "        lis_load.append(lis_equipmentInfos[i]['y'])\n",
    "        lis_load.append(lis_equipmentInfos[i]['z'])\n",
    "        lis_loadName.append(lis_equipmentInfos[i]['name'])\n",
    "        lis_loadDown.append(lis_equipmentInfos[i]['downPoint'])\n",
    "        \n",
    "print(\"上货点的坐标为\",lis_load)   \n",
    "print(\"上货点的数量为\",loadNum)    \n",
    "print(\"上货点的下一个节点的坐标为\",lis_loadDown)\n",
    "\n",
    "#将上货点坐标加入 list_Point 中\n",
    "for i in range(len(lis_equipmentInfos)):\n",
    "    list_Point.append(lis_equipmentInfos[i]['x'])\n",
    "    list_Point.append(lis_equipmentInfos[i]['y'])\n",
    "    list_Point.append(lis_equipmentInfos[i]['z'])\n",
    "print(list_Point)"
   ]
  },
  {
   "cell_type": "code",
   "execution_count": 2031,
   "metadata": {},
   "outputs": [],
   "source": [
    "data = {\n",
    "    'Tree_root':[]\n",
    "}\n",
    "\n",
    "data_name = {\n",
    "    'Tree_root':[]\n",
    "}"
   ]
  },
  {
   "cell_type": "code",
   "execution_count": 2032,
   "metadata": {},
   "outputs": [
    {
     "name": "stdout",
     "output_type": "stream",
     "text": [
      "[[-18.52, 0.7, 21.24], [-2.95, 0.7, 19.49]]\n",
      "{'Tree_root': [[-18.52, 0.7, 21.24], [-2.95, 0.7, 19.49]]}\n",
      "{'Tree_root': ['上货点1', '上货点2']}\n"
     ]
    }
   ],
   "source": [
    "#对lis_load 进行切片操作，获取单独的坐标\n",
    "for i in range(loadNum):\n",
    "    lis_load.append(lis_load[:3])\n",
    "    del lis_load[0:3]\n",
    "#将上货点的坐标加入树中\n",
    "for i in range(loadNum):\n",
    "    data['Tree_root'].append(lis_load[i])\n",
    "    data_name['Tree_root'].append(lis_loadName[i])\n",
    "print(lis_load)\n",
    "print(data)\n",
    "print(data_name)"
   ]
  },
  {
   "cell_type": "code",
   "execution_count": 2033,
   "metadata": {},
   "outputs": [
    {
     "name": "stdout",
     "output_type": "stream",
     "text": [
      "{'Tree_root': [[-18.52, 0.7, 21.24], [-2.95, 0.7, 19.49]],\n",
      " '[-18.52, 0.7, 21.24]': [-2.97, 0.71, 21.19],\n",
      " '[-2.95, 0.7, 19.49]': [-2.97, 0.71, 21.19]}\n"
     ]
    }
   ],
   "source": [
    "#将上货点的下一个坐标，即第一个交通点的坐标加入树中\n",
    "for i in range(loadNum):\n",
    "    data['%s'%(lis_load[i])] = lis_loadDown[i]\n",
    "pprint.pprint(data)"
   ]
  },
  {
   "cell_type": "code",
   "execution_count": 2034,
   "metadata": {},
   "outputs": [],
   "source": [
    "# 将所有交通点的坐标写入一个列表中，之后根据downPoint里的坐标去做对应。"
   ]
  },
  {
   "cell_type": "code",
   "execution_count": 2035,
   "metadata": {},
   "outputs": [],
   "source": [
    "#type(lis_equipmentInfos) == list\n",
    "#list -> dict\n",
    "\n",
    "# dict_equipmentInfos = {}\n",
    "# for i in range(0,len(lis_equipmentInfos),2):\n",
    "#     dict_equipmentInfos[lis_equipmentInfos[i]] = lis_equipmentInfos[i+1]"
   ]
  },
  {
   "cell_type": "code",
   "execution_count": 2036,
   "metadata": {},
   "outputs": [
    {
     "name": "stdout",
     "output_type": "stream",
     "text": [
      "dict_keys(['equipmentInfos', 'crossPoints', '堆垛机集合', '二楼Points', '出库交通点', '拆叠箱机12号', '拆叠箱机13号', '出库点1', '出库点2'])\n"
     ]
    }
   ],
   "source": [
    "print(d1.keys())"
   ]
  },
  {
   "cell_type": "code",
   "execution_count": 2037,
   "metadata": {},
   "outputs": [
    {
     "name": "stdout",
     "output_type": "stream",
     "text": [
      "15\n"
     ]
    }
   ],
   "source": [
    "#print(d1['crossPoints'])\n",
    "print(len(d1['crossPoints']))\n",
    "# print(d1['堆垛机集合'])\n",
    "# print(d1['出库交通点'])\n",
    "# print(d1['拆叠箱机12号'])\n",
    "# print(d1['拆叠箱机13号'])\n",
    "# print(d1['出库点1'])\n",
    "# print(d1['出库点2'])"
   ]
  },
  {
   "cell_type": "code",
   "execution_count": 2038,
   "metadata": {},
   "outputs": [
    {
     "name": "stdout",
     "output_type": "stream",
     "text": [
      "{'x': -2.97, 'y': 0.71, 'z': 21.19, 'upPoint': [{'x': -18.52, 'y': 0.7, 'z': 21.24, 'id': 4, 'runtime': 621.9}, {'x': -2.95, 'y': 0.7, 'z': 19.49, 'id': 5, 'runtime': 68.23}], 'upPointCount': 2, 'downPoint': [{'x': 0.03, 'y': 0.71, 'z': 21.19, 'id': 3, 'runtime': 120.0}], 'downPointCount': 1, 'id': 6, 'entityName': 'E区传输线46'}\n"
     ]
    }
   ],
   "source": [
    "print(d1['crossPoints'][0])"
   ]
  },
  {
   "cell_type": "code",
   "execution_count": 2039,
   "metadata": {},
   "outputs": [
    {
     "name": "stdout",
     "output_type": "stream",
     "text": [
      "[-2.97, 0.71, 21.19, 0.03, 0.71, 21.19, 0.03, 0.71, 52.2, -0.58, 0.71, 52.2, -0.58, 0.71, 51.27, -0.58, 0.71, 50.42, -0.58, 0.71, 48.56, -0.58, 0.71, 47.7, -0.58, 0.71, 45.82, -0.58, 0.71, 44.96, -0.58, 0.71, 43.09, -0.58, 0.71, 42.23, -0.58, 0.71, 40.33, -0.58, 0.71, 38.41, -0.58, 0.71, 36.53]\n",
      "45\n",
      "['E区传输线46', 'E区传输线50', 'F区传输线99', 'F区传输线56', 'F区传输线57', 'F区传输线58', 'F区传输线60', 'F区传输线61', 'F区传输线63', 'F区传输线64', 'F区传输线66', 'F区传输线67', 'F区传输线69', 'F区传输线71', 'F区传输线73']\n",
      "15\n",
      "<class 'list'>\n",
      "[-18.52, 0.7, 21.24, -2.95, 0.7, 19.49, 0.03, 0.71, 23.98, -2.97, 0.71, 21.19, 0.03, 0.71, 21.19, 0.03, 0.71, 52.2, -0.58, 0.71, 52.2, -0.58, 0.71, 51.27, -0.58, 0.71, 50.42, -0.58, 0.71, 48.56, -0.58, 0.71, 47.7, -0.58, 0.71, 45.82, -0.58, 0.71, 44.96, -0.58, 0.71, 43.09, -0.58, 0.71, 42.23, -0.58, 0.71, 40.33, -0.58, 0.71, 38.41, -0.58, 0.71, 36.53]\n"
     ]
    }
   ],
   "source": [
    "lis_crossPoints = []\n",
    "lis_crossPointsName = []\n",
    "for i in range(len(d1['crossPoints'])):\n",
    "    lis_crossPoints.append(d1['crossPoints'][i]['x'])\n",
    "    lis_crossPoints.append(d1['crossPoints'][i]['y'])\n",
    "    lis_crossPoints.append(d1['crossPoints'][i]['z'])\n",
    "    list_Point.append(d1['crossPoints'][i]['x'])\n",
    "    list_Point.append(d1['crossPoints'][i]['y'])\n",
    "    list_Point.append(d1['crossPoints'][i]['z'])\n",
    "    lis_crossPointsName.append(d1['crossPoints'][i]['entityName'])\n",
    "    \n",
    "print(lis_crossPoints)\n",
    "print(len(lis_crossPoints))\n",
    "print(lis_crossPointsName)\n",
    "print(len(lis_crossPointsName))\n",
    "print(type(d1['crossPoints'][0]['downPoint']))\n",
    "print(list_Point)"
   ]
  },
  {
   "cell_type": "code",
   "execution_count": 2040,
   "metadata": {},
   "outputs": [
    {
     "name": "stdout",
     "output_type": "stream",
     "text": [
      "[[-2.97, 0.71, 21.19], [0.03, 0.71, 21.19], [0.03, 0.71, 52.2], [-0.58, 0.71, 52.2], [-0.58, 0.71, 51.27], [-0.58, 0.71, 50.42], [-0.58, 0.71, 48.56], [-0.58, 0.71, 47.7], [-0.58, 0.71, 45.82], [-0.58, 0.71, 44.96], [-0.58, 0.71, 43.09], [-0.58, 0.71, 42.23], [-0.58, 0.71, 40.33], [-0.58, 0.71, 38.41], [-0.58, 0.71, 36.53]]\n",
      "15\n",
      "[[-18.52, 0.7, 21.24], [-2.95, 0.7, 19.49], [0.03, 0.71, 23.98], [-2.97, 0.71, 21.19], [0.03, 0.71, 21.19], [0.03, 0.71, 52.2], [-0.58, 0.71, 52.2], [-0.58, 0.71, 51.27], [-0.58, 0.71, 50.42], [-0.58, 0.71, 48.56], [-0.58, 0.71, 47.7], [-0.58, 0.71, 45.82], [-0.58, 0.71, 44.96], [-0.58, 0.71, 43.09], [-0.58, 0.71, 42.23], [-0.58, 0.71, 40.33], [-0.58, 0.71, 38.41], [-0.58, 0.71, 36.53]]\n",
      "18\n"
     ]
    }
   ],
   "source": [
    "for i in range(len(d1['crossPoints'])):\n",
    "    lis_crossPoints.append(lis_crossPoints[:3])\n",
    "    del lis_crossPoints[:3]\n",
    "    \n",
    "print(lis_crossPoints)\n",
    "print(len(lis_crossPoints))\n",
    "\n",
    "for i in range(int(len(list_Point)/3)):\n",
    "    list_Point.append(list_Point[:3])\n",
    "    del list_Point[:3]\n",
    "\n",
    "print(list_Point)\n",
    "print(len(list_Point))"
   ]
  },
  {
   "cell_type": "code",
   "execution_count": 2041,
   "metadata": {},
   "outputs": [
    {
     "name": "stdout",
     "output_type": "stream",
     "text": [
      "[[[0.03, 0.71, 21.19]], [[0.03, 0.71, 23.98]], [[-0.58, 0.71, 52.2]], [[-0.58, 0.71, 51.27]], [[-4.21, 0.71, 51.27], [-0.58, 0.71, 50.42]], [[-0.58, 0.71, 48.56], [-4.21, 0.71, 50.42]], [[-4.21, 0.71, 48.54], [-0.58, 0.71, 47.7]], [[-4.21, 0.71, 47.69], [-0.58, 0.71, 45.82]], [[-4.21, 0.71, 45.81], [-0.58, 0.71, 44.96]], [[-4.21, 0.71, 44.96], [-0.58, 0.71, 43.09]], [[-4.21, 0.71, 43.08], [-0.58, 0.71, 42.23]], [[-0.58, 0.71, 40.33], [-4.21, 0.71, 42.23]], [[-4.21, 0.71, 40.34], [-0.58, 0.71, 39.36]], [[-4.21, 0.71, 38.43], [-0.58, 0.71, 36.53]], [[-4.21, 0.71, 36.52]]]\n",
      "15\n"
     ]
    }
   ],
   "source": [
    "lis_crossPointsDownPoint = []\n",
    "#提取downPoint里的坐标\n",
    "for i in range(len(d1['crossPoints'])):\n",
    "    for j in range(int(d1['crossPoints'][i]['downPointCount'])):\n",
    "        lis_crossPointsDownPoint.append(d1['crossPoints'][i]['downPoint'][j]['x'])\n",
    "        lis_crossPointsDownPoint.append(d1['crossPoints'][i]['downPoint'][j]['y'])\n",
    "        lis_crossPointsDownPoint.append(d1['crossPoints'][i]['downPoint'][j]['z'])\n",
    "#坐标分割为三个一组\n",
    "for i in range(int(len(lis_crossPointsDownPoint)/3)):\n",
    "    lis_crossPointsDownPoint.append(lis_crossPointsDownPoint[:3])\n",
    "    del lis_crossPointsDownPoint[:3]\n",
    "#将属于同一个节点的downPoint提取成一组 \n",
    "for i in range(len(lis_crossPoints)):\n",
    "    lis_crossPointsDownPoint.append(lis_crossPointsDownPoint[:int(d1['crossPoints'][i]['downPointCount'])])\n",
    "    del lis_crossPointsDownPoint[:int(d1['crossPoints'][i]['downPointCount'])]\n",
    "print(lis_crossPointsDownPoint)\n",
    "print(len(lis_crossPointsDownPoint))"
   ]
  },
  {
   "cell_type": "code",
   "execution_count": 2042,
   "metadata": {},
   "outputs": [
    {
     "name": "stdout",
     "output_type": "stream",
     "text": [
      "dict_keys(['Tree_root', '[-18.52, 0.7, 21.24]', '[-2.95, 0.7, 19.49]', '[-2.97, 0.71, 21.19]', '[0.03, 0.71, 21.19]', '[0.03, 0.71, 52.2]', '[-0.58, 0.71, 52.2]', '[-0.58, 0.71, 51.27]', '[-0.58, 0.71, 50.42]', '[-0.58, 0.71, 48.56]', '[-0.58, 0.71, 47.7]', '[-0.58, 0.71, 45.82]', '[-0.58, 0.71, 44.96]', '[-0.58, 0.71, 43.09]', '[-0.58, 0.71, 42.23]', '[-0.58, 0.71, 40.33]', '[-0.58, 0.71, 38.41]', '[-0.58, 0.71, 36.53]'])\n",
      "<class 'dict_values'>\n"
     ]
    }
   ],
   "source": [
    "#将crossPoint 的 downPoint加入树中\n",
    "for i in range(len(lis_crossPoints)):\n",
    "    data['%s'%(lis_crossPoints[i])] = lis_crossPointsDownPoint[i]\n",
    "#pprint.pprint(data)\n",
    "#print(data)\n",
    "\n",
    "print(data.keys())\n",
    "print(type(data.values()))"
   ]
  },
  {
   "cell_type": "code",
   "execution_count": 2043,
   "metadata": {},
   "outputs": [
    {
     "name": "stdout",
     "output_type": "stream",
     "text": [
      "[-18.52, 0.7, 21.24]\n",
      "[-18.52, 0.7, 21.24]\n",
      "True\n",
      "[{'1': '2'}]\n"
     ]
    }
   ],
   "source": [
    "keys = data.keys()\n",
    "\n",
    "values = data.values()\n",
    "\n",
    "keys = list(keys)\n",
    "\n",
    "values = list(values)\n",
    "print(keys[1])\n",
    "print(values[0][0])\n",
    "print(str(keys[1]) == str(values[0][0]))\n",
    "\n",
    "ls = [0]\n",
    "ls[0] = {'1':'2'}\n",
    "print(ls)"
   ]
  },
  {
   "cell_type": "code",
   "execution_count": 2044,
   "metadata": {},
   "outputs": [],
   "source": [
    "if('-2.97, 0.71, 21.19' in data):\n",
    "    print(\"yes\")"
   ]
  },
  {
   "cell_type": "code",
   "execution_count": 2045,
   "metadata": {},
   "outputs": [
    {
     "name": "stdout",
     "output_type": "stream",
     "text": [
      "dict_values([[-18.52, 0.7, 21.24], [-2.95, 0.7, 19.49], [0.03, 0.71, 23.98], [-2.97, 0.71, 21.19], [0.03, 0.71, 21.19], [0.03, 0.71, 52.2], [-0.58, 0.71, 52.2], [-0.58, 0.71, 51.27], [-0.58, 0.71, 50.42], [-0.58, 0.71, 48.56], [-0.58, 0.71, 47.7], [-0.58, 0.71, 45.82], [-0.58, 0.71, 44.96], [-0.58, 0.71, 43.09], [-0.58, 0.71, 42.23], [-0.58, 0.71, 40.33], [-0.58, 0.71, 38.41], [-0.58, 0.71, 36.53]])\n"
     ]
    }
   ],
   "source": [
    "#将list_Point 转化成字典\n",
    "dic_Point = {}\n",
    "for i in range(len(list_Point)):\n",
    "    dic_Point['%d'%(i+1)] = list_Point[i]\n",
    "print(dic_Point.values())"
   ]
  },
  {
   "cell_type": "code",
   "execution_count": 2046,
   "metadata": {},
   "outputs": [
    {
     "name": "stdout",
     "output_type": "stream",
     "text": [
      "{'Tree_root': [[-18.52, 0.7, 21.24], [-2.95, 0.7, 19.49]], '[-18.52, 0.7, 21.24]': [-2.97, 0.71, 21.19], '[-2.95, 0.7, 19.49]': [-2.97, 0.71, 21.19], '[-2.97, 0.71, 21.19]': [[0.03, 0.71, 21.19]], '[0.03, 0.71, 21.19]': [[0.03, 0.71, 23.98]], '[0.03, 0.71, 52.2]': [[-0.58, 0.71, 52.2]], '[-0.58, 0.71, 52.2]': [[-0.58, 0.71, 51.27]], '[-0.58, 0.71, 51.27]': [[-4.21, 0.71, 51.27], [-0.58, 0.71, 50.42]], '[-0.58, 0.71, 50.42]': [[-0.58, 0.71, 48.56], [-4.21, 0.71, 50.42]], '[-0.58, 0.71, 48.56]': [[-4.21, 0.71, 48.54], [-0.58, 0.71, 47.7]], '[-0.58, 0.71, 47.7]': [[-4.21, 0.71, 47.69], [-0.58, 0.71, 45.82]], '[-0.58, 0.71, 45.82]': [[-4.21, 0.71, 45.81], [-0.58, 0.71, 44.96]], '[-0.58, 0.71, 44.96]': [[-4.21, 0.71, 44.96], [-0.58, 0.71, 43.09]], '[-0.58, 0.71, 43.09]': [[-4.21, 0.71, 43.08], [-0.58, 0.71, 42.23]], '[-0.58, 0.71, 42.23]': [[-0.58, 0.71, 40.33], [-4.21, 0.71, 42.23]], '[-0.58, 0.71, 40.33]': [[-4.21, 0.71, 40.34], [-0.58, 0.71, 39.36]], '[-0.58, 0.71, 38.41]': [[-4.21, 0.71, 38.43], [-0.58, 0.71, 36.53]], '[-0.58, 0.71, 36.53]': [[-4.21, 0.71, 36.52]]}\n",
      "['[-18.52, 0.7, 21.24]', '[-2.95, 0.7, 19.49]', '[-2.97, 0.71, 21.19]', '[0.03, 0.71, 21.19]', '[0.03, 0.71, 52.2]', '[-0.58, 0.71, 52.2]', '[-0.58, 0.71, 51.27]', '[-0.58, 0.71, 50.42]', '[-0.58, 0.71, 48.56]', '[-0.58, 0.71, 47.7]', '[-0.58, 0.71, 45.82]', '[-0.58, 0.71, 44.96]', '[-0.58, 0.71, 43.09]', '[-0.58, 0.71, 42.23]', '[-0.58, 0.71, 40.33]', '[-0.58, 0.71, 38.41]', '[-0.58, 0.71, 36.53]']\n",
      "{'Tree_root': [[-18.52, 0.7, 21.24], [-2.95, 0.7, 19.49]], '1': [-2.97, 0.71, 21.19], '2': [-2.97, 0.71, 21.19], '3': [[0.03, 0.71, 21.19]], '4': [[0.03, 0.71, 23.98]], '5': [[-0.58, 0.71, 52.2]], '6': [[-0.58, 0.71, 51.27]], '7': [[-4.21, 0.71, 51.27], [-0.58, 0.71, 50.42]], '8': [[-0.58, 0.71, 48.56], [-4.21, 0.71, 50.42]], '9': [[-4.21, 0.71, 48.54], [-0.58, 0.71, 47.7]], '10': [[-4.21, 0.71, 47.69], [-0.58, 0.71, 45.82]], '11': [[-4.21, 0.71, 45.81], [-0.58, 0.71, 44.96]], '12': [[-4.21, 0.71, 44.96], [-0.58, 0.71, 43.09]], '13': [[-4.21, 0.71, 43.08], [-0.58, 0.71, 42.23]], '14': [[-0.58, 0.71, 40.33], [-4.21, 0.71, 42.23]], '15': [[-4.21, 0.71, 40.34], [-0.58, 0.71, 39.36]], '16': [[-4.21, 0.71, 38.43], [-0.58, 0.71, 36.53]], '17': [[-4.21, 0.71, 36.52]]}\n"
     ]
    }
   ],
   "source": [
    "print(data)\n",
    "turns = 1\n",
    "values_turns = 1\n",
    "lis_turns = []\n",
    "lis_keys = []\n",
    "lis_values = []\n",
    "lis_turns_values = []\n",
    "data_new = {}\n",
    "for i in data.keys():\n",
    "    for j in dic_Point.values():\n",
    "        if (str(i) == str(j)):\n",
    "            #print(i)\n",
    "            #print(turns)\n",
    "            lis_turns.append(turns)\n",
    "            lis_keys.append(i)\n",
    "            i = str(i)\n",
    "            #data[\"%d\"%turns] = data.pop(\"%s\"%i)\n",
    "            turns += 1 \n",
    "\n",
    "print(lis_keys)\n",
    "\n",
    "for i in range(len(data)-1):\n",
    "    data[\"%d\"%lis_turns[i]] = data.pop(\"%s\"%lis_keys[i])\n",
    "print(data)\n",
    "\n"
   ]
  },
  {
   "cell_type": "code",
   "execution_count": 2047,
   "metadata": {},
   "outputs": [
    {
     "name": "stdout",
     "output_type": "stream",
     "text": [
      "[-18.52, 0.7, 21.24]\n",
      "[-2.95, 0.7, 19.49]\n",
      "[0.03, 0.71, 23.98]\n",
      "[-2.97, 0.71, 21.19]\n",
      "[0.03, 0.71, 21.19]\n",
      "[0.03, 0.71, 52.2]\n",
      "[-0.58, 0.71, 52.2]\n",
      "[-0.58, 0.71, 51.27]\n",
      "[-0.58, 0.71, 50.42]\n",
      "[-0.58, 0.71, 48.56]\n",
      "[-0.58, 0.71, 47.7]\n",
      "[-0.58, 0.71, 45.82]\n",
      "[-0.58, 0.71, 44.96]\n",
      "[-0.58, 0.71, 43.09]\n",
      "[-0.58, 0.71, 42.23]\n",
      "[-0.58, 0.71, 40.33]\n",
      "[-0.58, 0.71, 38.41]\n",
      "[-0.58, 0.71, 36.53]\n"
     ]
    }
   ],
   "source": [
    "# print(data.values())\n",
    "\n",
    "# print(type(dic_Point.values()))\n",
    "\n",
    "for j in dic_Point.values():\n",
    "    print(j)\n",
    "# for i in data.values():\n",
    "#     for k in range(len(i)):\n",
    "#         #print(i[k])\n"
   ]
  },
  {
   "cell_type": "code",
   "execution_count": 2048,
   "metadata": {},
   "outputs": [
    {
     "name": "stdout",
     "output_type": "stream",
     "text": [
      "[[-18.52, 0.7, 21.24], [-2.95, 0.7, 19.49]]\n",
      "[-2.97, 0.71, 21.19]\n",
      "[-2.97, 0.71, 21.19]\n",
      "[[0.03, 0.71, 21.19]]\n",
      "[[0.03, 0.71, 23.98]]\n",
      "[[-0.58, 0.71, 52.2]]\n",
      "[[-0.58, 0.71, 51.27]]\n",
      "[[-4.21, 0.71, 51.27], [-0.58, 0.71, 50.42]]\n",
      "[[-0.58, 0.71, 48.56], [-4.21, 0.71, 50.42]]\n",
      "[[-4.21, 0.71, 48.54], [-0.58, 0.71, 47.7]]\n",
      "[[-4.21, 0.71, 47.69], [-0.58, 0.71, 45.82]]\n",
      "[[-4.21, 0.71, 45.81], [-0.58, 0.71, 44.96]]\n",
      "[[-4.21, 0.71, 44.96], [-0.58, 0.71, 43.09]]\n",
      "[[-4.21, 0.71, 43.08], [-0.58, 0.71, 42.23]]\n",
      "[[-0.58, 0.71, 40.33], [-4.21, 0.71, 42.23]]\n",
      "[[-4.21, 0.71, 40.34], [-0.58, 0.71, 39.36]]\n",
      "[[-4.21, 0.71, 38.43], [-0.58, 0.71, 36.53]]\n",
      "[[-4.21, 0.71, 36.52]]\n"
     ]
    }
   ],
   "source": [
    "for i in data.values():\n",
    "    #print(type(i[0]))\n",
    "    print(i)\n",
    "    # for j in range(len(i)):\n",
    "    #     print(j)"
   ]
  },
  {
   "cell_type": "code",
   "execution_count": 2049,
   "metadata": {},
   "outputs": [
    {
     "name": "stdout",
     "output_type": "stream",
     "text": [
      "已加入 [-18.52, 0.7, 21.24]\n",
      "已加入 [-2.95, 0.7, 19.49]\n",
      "***** [-2.97, 0.71, 21.19] ***** [-18.52, 0.7, 21.24]\n",
      "***** [-2.97, 0.71, 21.19] ***** [-2.95, 0.7, 19.49]\n",
      "***** [-2.97, 0.71, 21.19] ***** [0.03, 0.71, 23.98]\n",
      "***** [-2.97, 0.71, 21.19] ***** [-2.97, 0.71, 21.19]\n",
      "已加入 [-2.97, 0.71, 21.19]\n",
      "***** [-2.97, 0.71, 21.19] ***** [-18.52, 0.7, 21.24]\n",
      "***** [-2.97, 0.71, 21.19] ***** [-2.95, 0.7, 19.49]\n",
      "***** [-2.97, 0.71, 21.19] ***** [0.03, 0.71, 23.98]\n",
      "***** [-2.97, 0.71, 21.19] ***** [-2.97, 0.71, 21.19]\n",
      "已加入 [-2.97, 0.71, 21.19]\n",
      "已加入 [0.03, 0.71, 21.19]\n",
      "已加入 [0.03, 0.71, 23.98]\n",
      "已加入 [-0.58, 0.71, 52.2]\n",
      "已加入 [-0.58, 0.71, 51.27]\n",
      "已加入 [-4.21, 0.71, 51.27]\n",
      "已加入 [-0.58, 0.71, 50.42]\n",
      "已加入 [-0.58, 0.71, 48.56]\n",
      "已加入 [-4.21, 0.71, 50.42]\n",
      "已加入 [-4.21, 0.71, 48.54]\n",
      "已加入 [-0.58, 0.71, 47.7]\n",
      "已加入 [-4.21, 0.71, 47.69]\n",
      "已加入 [-0.58, 0.71, 45.82]\n",
      "已加入 [-4.21, 0.71, 45.81]\n",
      "已加入 [-0.58, 0.71, 44.96]\n",
      "已加入 [-4.21, 0.71, 44.96]\n",
      "已加入 [-0.58, 0.71, 43.09]\n",
      "已加入 [-4.21, 0.71, 43.08]\n",
      "已加入 [-0.58, 0.71, 42.23]\n",
      "已加入 [-0.58, 0.71, 40.33]\n",
      "已加入 [-4.21, 0.71, 42.23]\n",
      "已加入 [-4.21, 0.71, 40.34]\n",
      "已加入 [-0.58, 0.71, 39.36]\n",
      "已加入 [-4.21, 0.71, 38.43]\n",
      "已加入 [-0.58, 0.71, 36.53]\n",
      "已加入 [-4.21, 0.71, 36.52]\n",
      "[1, 2, 4, 4, 5, 3, 7, 8, 20, 9, 10, 20, 20, 11, 20, 12, 20, 13, 20, 14, 20, 15, 16, 20, 20, 20, 20, 18, 20]\n",
      "[[-18.52, 0.7, 21.24], [-2.95, 0.7, 19.49], [-2.97, 0.71, 21.19], [-2.97, 0.71, 21.19], [0.03, 0.71, 21.19], [0.03, 0.71, 23.98], [-0.58, 0.71, 52.2], [-0.58, 0.71, 51.27], [-4.21, 0.71, 51.27], [-0.58, 0.71, 50.42], [-0.58, 0.71, 48.56], [-4.21, 0.71, 50.42], [-4.21, 0.71, 48.54], [-0.58, 0.71, 47.7], [-4.21, 0.71, 47.69], [-0.58, 0.71, 45.82], [-4.21, 0.71, 45.81], [-0.58, 0.71, 44.96], [-4.21, 0.71, 44.96], [-0.58, 0.71, 43.09], [-4.21, 0.71, 43.08], [-0.58, 0.71, 42.23], [-0.58, 0.71, 40.33], [-4.21, 0.71, 42.23], [-4.21, 0.71, 40.34], [-0.58, 0.71, 39.36], [-4.21, 0.71, 38.43], [-0.58, 0.71, 36.53], [-4.21, 0.71, 36.52]]\n",
      "29\n"
     ]
    }
   ],
   "source": [
    "Flag = False\n",
    "count = 0\n",
    "for i in data.values():\n",
    "    #print(type(i))\n",
    "        #print(type(j))\n",
    "    if (type(i[0]) == list):\n",
    "        #print('yes')\n",
    "        for k in range(len(i)):\n",
    "            for j in dic_Point.values():\n",
    "                if (str(i[k]) == str(j)):\n",
    "                    lis_turns_values.append(values_turns)\n",
    "                    lis_values.append(i[k])\n",
    "                    print('已加入',i[k])\n",
    "                    count += 1\n",
    "                    Flag = True\n",
    "                    break\n",
    "                values_turns += 1 \n",
    "            if(Flag == False):\n",
    "                values_turns += 1 \n",
    "                lis_values.append(i[k])\n",
    "                print('已加入',i[k])\n",
    "                count += 1\n",
    "                lis_turns_values.append(values_turns)\n",
    "            values_turns = 1\n",
    "            Flag = False\n",
    "    else :\n",
    "        #print('no')\n",
    "        for j in dic_Point.values():\n",
    "            print('*****',i,'*****',j)\n",
    "            if (str(i) == str(j)):\n",
    "                lis_turns_values.append(values_turns)\n",
    "                lis_values.append(i)\n",
    "                print('已加入',i)\n",
    "                count += 1\n",
    "                Flag = True\n",
    "                break\n",
    "            values_turns += 1 \n",
    "        if(Flag == False):\n",
    "            values_turns += 1 \n",
    "            lis_values.append(i)\n",
    "            print('已加入',i)\n",
    "            count += 1\n",
    "            lis_turns_values.append(values_turns)\n",
    "        values_turns = 1\n",
    "        Flag = False\n",
    "print(lis_turns_values)\n",
    "print(lis_values)\n",
    "print(count)"
   ]
  },
  {
   "cell_type": "code",
   "execution_count": 2050,
   "metadata": {},
   "outputs": [
    {
     "name": "stdout",
     "output_type": "stream",
     "text": [
      "{'Tree_root': [1, 2], '1': [4], '2': [4], '3': [5], '4': [3], '5': [7], '6': [8], '7': [20, 9], '8': [10, 20], '9': [20, 11], '10': [20, 12], '11': [20, 13], '12': [20, 14], '13': [20, 15], '14': [16, 20], '15': [20, 20], '16': [20, 18], '17': [20]}\n"
     ]
    }
   ],
   "source": [
    "\n",
    "\n",
    "\n",
    "turns_i = 0\n",
    "for i in data.keys():\n",
    "    if (type(data['%s'%i][0])==list):\n",
    "        for j in range(len(data['%s'%i])):\n",
    "            try:\n",
    "                data['%s'%i][j] = lis_turns_values[turns_i]\n",
    "                turns_i += 1\n",
    "            except IndexError :\n",
    "                break\n",
    "    else:\n",
    "        liss = []\n",
    "        liss.append(lis_turns_values[turns_i])\n",
    "        data['%s'%i] = liss\n",
    "        turns_i += 1\n",
    "    \n",
    "print(data)\n"
   ]
  },
  {
   "cell_type": "code",
   "execution_count": 2051,
   "metadata": {},
   "outputs": [
    {
     "name": "stdout",
     "output_type": "stream",
     "text": [
      "{'Tree': [1, 2]}\n",
      "{'Tree': [{'1': [{'4': [{'3': [{'5': [{'7': [20, {'9': [20, {'11': [20, {'13': [20, {'15': [20, 20]}]}]}]}]}]}]}]}]}, {'2': [{'4': [{'3': [{'5': [{'7': [20, {'9': [20, {'11': [20, {'13': [20, {'15': [20, 20]}]}]}]}]}]}]}]}]}]}\n"
     ]
    }
   ],
   "source": [
    "def add_dic(ls):\n",
    "    for i in range(len(ls)):\n",
    "        k = str(ls[i])\n",
    "        if k in data:\n",
    "            l = data[k][:]\n",
    "            add_dic(l)\n",
    "            ls[i] = {k:l}\n",
    "tree = {'Tree':data['Tree_root'][:]}\n",
    "print(tree)\n",
    "add_dic(tree['Tree'])\n",
    "print(tree)"
   ]
  },
  {
   "cell_type": "code",
   "execution_count": null,
   "metadata": {},
   "outputs": [],
   "source": []
  },
  {
   "cell_type": "code",
   "execution_count": 2052,
   "metadata": {},
   "outputs": [
    {
     "data": {
      "image/png": "[encoded data removed]",
      "text/plain": [
       "<Figure size 432x288 with 1 Axes>"
      ]
     },
     "metadata": {},
     "output_type": "display_data"
    }
   ],
   "source": [
    "# -*- coding: utf-8 -*-\n",
    "\n",
    "import sys  \n",
    "import os\n",
    "import numpy as np\n",
    "import matplotlib.pyplot as plt\n",
    "import treePlotter as tp \n",
    "\n",
    "\n",
    "\n",
    "# 绘制树\n",
    "\n",
    "myTree = {'root': {0: 'leaf node', 1: {'level 2': {0: 'leaf node', 1: 'leaf node'}},2:{'level2': {0: 'leaf node', 1: 'leaf node'}}}}\n",
    "tp.createPlot(myTree)\n",
    "\n",
    "\n",
    "\n"
   ]
  }
 ],
 "metadata": {
  "interpreter": {
   "hash": "0683780d03ee1195a9e1ac19e401b8f6c3447ee82d0b15d335dacfb764b91f68"
  },
  "kernelspec": {
   "display_name": "Python 3.8.6 64-bit",
   "language": "python",
   "name": "python3"
  },
  "language_info": {
   "codemirror_mode": {
    "name": "ipython",
    "version": 3
   },
   "file_extension": ".py",
   "mimetype": "text/x-python",
   "name": "python",
   "nbconvert_exporter": "python",
   "pygments_lexer": "ipython3",
   "version": "3.8.6"
  },
  "orig_nbformat": 4
 },
 "nbformat": 4,
 "nbformat_minor": 2
}
